{
 "cells": [
  {
   "cell_type": "code",
   "execution_count": null,
   "metadata": {},
   "outputs": [],
   "source": [
    "die_a = [1, 2, 3, 4, 5, 6]\n",
    "die_b = [1, 2, 3, 4, 5, 6]\n",
    "\n",
    "# Part 1: Total Combinations\n",
    "total_combinations = len(die_a) * len(die_b)\n",
    "print(f\"Total Combinations: {total_combinations}\")\n",
    "\n",
    "# Part 2: Distribution of Possible Combinations\n",
    "combinations_distribution = {i: 0 for i in range(2, 13)}\n",
    "for roll_a in die_a:\n",
    "    for roll_b in die_b:\n",
    "        combinations_distribution[roll_a + roll_b] += 1\n",
    "\n",
    "print(\"Distribution of Possible Combinations:\")\n",
    "for key, value in combinations_distribution.items():\n",
    "    print(f\"Sum = {key}: {value} combinations\")\n",
    "\n",
    "# Part 3: Probability of Possible Sums\n",
    "print(\"\\nProbability of Possible Sums:\")\n",
    "for key, value in combinations_distribution.items():\n",
    "    probability = value / total_combinations\n",
    "    print(f\"P(Sum = {key}) = {probability:.4f}\")"
   ]
  },
  {
   "cell_type": "code",
   "execution_count": null,
   "metadata": {},
   "outputs": [],
   "source": []
  }
 ],
 "metadata": {
  "language_info": {
   "name": "python"
  },
  "orig_nbformat": 4
 },
 "nbformat": 4,
 "nbformat_minor": 2
}
