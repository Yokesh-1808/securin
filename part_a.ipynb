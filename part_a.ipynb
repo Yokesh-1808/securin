{
 "cells": [
  {
   "cell_type": "code",
   "execution_count": 7,
   "id": "363bd779",
   "metadata": {},
   "outputs": [],
   "source": [
    "die_a = [1, 2, 3, 4, 5, 6]\n",
    "die_b = [1, 2, 3, 4, 5, 6]"
   ]
  },
  {
   "cell_type": "markdown",
   "id": "5129aaab",
   "metadata": {},
   "source": [
    "# Part 1: Total Combinations\n",
    "\n",
    "For DIE_A there are 6 possible outcomes \n",
    "For DIE_B there are 6 possible outcomes\n",
    "To get the total combination when we roll the Dies together we get 6*6 = 36 outcomes"
   ]
  },
  {
   "cell_type": "code",
   "execution_count": 8,
   "id": "089004f1",
   "metadata": {},
   "outputs": [
    {
     "name": "stdout",
     "output_type": "stream",
     "text": [
      "Total Combinations: 36\n"
     ]
    }
   ],
   "source": [
    "total_combinations = len(die_a) * len(die_b)\n",
    "print(f\"Total Combinations: {total_combinations}\")"
   ]
  },
  {
   "cell_type": "markdown",
   "id": "f4a10c46",
   "metadata": {},
   "source": [
    "# Part 2: Distribution of Possible Combinations\n",
    "\n",
    "The minimum possible sum when 2 dies are rolled to gether is 2\n",
    "so to get 2 ---> (1,1) is the only combination\n",
    "similarly to get 3 --> (1,2),(2,1) are the combinations\n",
    "\n",
    "thus we'll be calculating the distribution for each of the sum using the dictionary"
   ]
  },
  {
   "cell_type": "code",
   "execution_count": 9,
   "id": "a9da4079",
   "metadata": {
    "scrolled": true
   },
   "outputs": [
    {
     "name": "stdout",
     "output_type": "stream",
     "text": [
      "Distribution of Possible Combinations:\n",
      "Sum = 2: 1 combinations\n",
      "Sum = 3: 2 combinations\n",
      "Sum = 4: 3 combinations\n",
      "Sum = 5: 4 combinations\n",
      "Sum = 6: 5 combinations\n",
      "Sum = 7: 6 combinations\n",
      "Sum = 8: 5 combinations\n",
      "Sum = 9: 4 combinations\n",
      "Sum = 10: 3 combinations\n",
      "Sum = 11: 2 combinations\n",
      "Sum = 12: 1 combinations\n"
     ]
    }
   ],
   "source": [
    "combinations_distribution = {i: 0 for i in range(2, 13)}\n",
    "for roll_a in die_a:\n",
    "    for roll_b in die_b:\n",
    "        combinations_distribution[roll_a + roll_b] += 1\n",
    "\n",
    "print(\"Distribution of Possible Combinations:\")\n",
    "for key, value in combinations_distribution.items():\n",
    "    print(f\"Sum = {key}: {value} combinations\")"
   ]
  },
  {
   "cell_type": "markdown",
   "id": "e1207799",
   "metadata": {},
   "source": [
    "# Part 3: Probability of Possible Sums\n",
    "\n",
    "To get the porbability for each of the sum we have to divide each of the distribution value with total combination\n",
    "\n",
    "Probabilty (Sum 2) = Distribution_Value(Sum 2)/Total_Combinations\n",
    "\n",
    "Similarly Probabilty is calculated for each of the Sum "
   ]
  },
  {
   "cell_type": "code",
   "execution_count": 10,
   "id": "5f92188f",
   "metadata": {},
   "outputs": [
    {
     "name": "stdout",
     "output_type": "stream",
     "text": [
      "\n",
      "Probability of Possible Sums:\n",
      "P(Sum = 2) = 0.0278\n",
      "P(Sum = 3) = 0.0556\n",
      "P(Sum = 4) = 0.0833\n",
      "P(Sum = 5) = 0.1111\n",
      "P(Sum = 6) = 0.1389\n",
      "P(Sum = 7) = 0.1667\n",
      "P(Sum = 8) = 0.1389\n",
      "P(Sum = 9) = 0.1111\n",
      "P(Sum = 10) = 0.0833\n",
      "P(Sum = 11) = 0.0556\n",
      "P(Sum = 12) = 0.0278\n"
     ]
    }
   ],
   "source": [
    "print(\"\\nProbability of Possible Sums:\")\n",
    "for key, value in combinations_distribution.items():\n",
    "    probability = value / total_combinations\n",
    "    print(f\"P(Sum = {key}) = {probability:.4f}\")"
   ]
  },
  {
   "cell_type": "code",
   "execution_count": null,
   "id": "21780f47",
   "metadata": {},
   "outputs": [],
   "source": []
  }
 ],
 "metadata": {
  "kernelspec": {
   "display_name": "Python 3 (ipykernel)",
   "language": "python",
   "name": "python3"
  },
  "language_info": {
   "codemirror_mode": {
    "name": "ipython",
    "version": 3
   },
   "file_extension": ".py",
   "mimetype": "text/x-python",
   "name": "python",
   "nbconvert_exporter": "python",
   "pygments_lexer": "ipython3",
   "version": "3.9.13"
  }
 },
 "nbformat": 4,
 "nbformat_minor": 5
}
