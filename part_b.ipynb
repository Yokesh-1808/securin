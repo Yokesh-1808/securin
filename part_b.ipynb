{
 "cells": [
  {
   "cell_type": "markdown",
   "metadata": {},
   "source": [
    "# part-B"
   ]
  },
  {
   "cell_type": "markdown",
   "metadata": {},
   "source": [
    "* Created an outcome fucntion to find the distribution from given die_a, die_b\n",
    "* Using possibilty function we generated all the possible die value\n",
    "* With a looping function we comapare each of the value from die_a with die_b once it matches with the desired outcome we fix that particular position and continue iterating."
   ]
  },
  {
   "cell_type": "code",
   "execution_count": 72,
   "metadata": {},
   "outputs": [
    {
     "data": {
      "text/plain": [
       "[[1, 2, 2, 3, 3, 4], [1, 3, 4, 5, 6, 8]]"
      ]
     },
     "execution_count": 72,
     "metadata": {},
     "output_type": "execute_result"
    }
   ],
   "source": [
    "def outcome(die_a, die_b):\n",
    "\n",
    "    ans = [0]*(max(die_a)+max(die_b)+1)\n",
    "\n",
    "    for x in die_a:\n",
    "        for y in die_b:\n",
    "            ans[x+y] += 1\n",
    "\n",
    "    return ans\n",
    "\n",
    "\n",
    "def possibility(values, length, unique):\n",
    "\n",
    "    all_pos = []\n",
    "    cur = [0]*length\n",
    "\n",
    "    def flag(x, start=0):\n",
    "        \n",
    "        if x == length:\n",
    "            all_pos.append(cur.copy())\n",
    "            return\n",
    "        \n",
    "        for i in range(start, len(values)):\n",
    "            cur[x] = values[i]\n",
    "            flag(x+1, i+unique)\n",
    "\n",
    "    flag(0)\n",
    "    return all_pos\n",
    "\n",
    "\n",
    "def doomed_dice(die_a, die_b):\n",
    "\n",
    "    ans = []\n",
    "\n",
    "    desired = outcome(die_a, die_b)\n",
    "\n",
    "    max_value = len(desired)\n",
    "\n",
    "    for new_a in possibility(range(1, 5), len(die_a), False):\n",
    "        for new_b in possibility(range(1, max_value), len(die_b), True):\n",
    "\n",
    "            if outcome(new_a, new_b) == desired:\n",
    "                return [new_a, new_b]\n",
    "\n",
    "\n",
    "    return []\n",
    "\n",
    "die_a = die_b = [1, 2, 3, 4, 5, 6]\n",
    "doomed_dice(die_a, die_b)"
   ]
  }
 ],
 "metadata": {
  "kernelspec": {
   "display_name": "Python 3",
   "language": "python",
   "name": "python3"
  },
  "language_info": {
   "codemirror_mode": {
    "name": "ipython",
    "version": 3
   },
   "file_extension": ".py",
   "mimetype": "text/x-python",
   "name": "python",
   "nbconvert_exporter": "python",
   "pygments_lexer": "ipython3",
   "version": "3.10.12"
  }
 },
 "nbformat": 4,
 "nbformat_minor": 2
}
